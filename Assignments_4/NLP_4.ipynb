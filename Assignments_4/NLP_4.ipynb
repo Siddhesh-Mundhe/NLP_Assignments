{
  "nbformat": 4,
  "nbformat_minor": 0,
  "metadata": {
    "colab": {
      "provenance": []
    },
    "kernelspec": {
      "name": "python3",
      "display_name": "Python 3"
    },
    "language_info": {
      "name": "python"
    }
  },
  "cells": [
    {
      "cell_type": "code",
      "execution_count": 1,
      "metadata": {
        "id": "AAHeFqU27SOr"
      },
      "outputs": [],
      "source": [
        "import torch\n",
        "import torch.nn as nn\n",
        "import torch.nn.functional as F\n"
      ]
    },
    {
      "cell_type": "code",
      "source": [
        "class ScaledDotProductAttention(nn.Module):\n",
        "    def __init__(self):\n",
        "        super(ScaledDotProductAttention, self).__init__()\n",
        "\n",
        "    def forward(self, query, key, value, mask=None):\n",
        "        d_k = query.size(-1)  # Size of the key vector\n",
        "        scores = torch.matmul(query, key.transpose(-2, -1)) / d_k**0.5\n",
        "\n",
        "        if mask is not None:\n",
        "            scores = scores.masked_fill(mask == 0, -1e9)\n",
        "\n",
        "        attention = F.softmax(scores, dim=-1)\n",
        "        output = torch.matmul(attention, value)\n",
        "        return output, attention\n"
      ],
      "metadata": {
        "id": "sd7WtbMU7gkh"
      },
      "execution_count": 2,
      "outputs": []
    },
    {
      "cell_type": "code",
      "source": [
        "class MultiHeadAttention(nn.Module):\n",
        "    def __init__(self, d_model, num_heads):\n",
        "        super(MultiHeadAttention, self).__init__()\n",
        "        self.num_heads = num_heads\n",
        "        self.d_model = d_model\n",
        "        self.d_k = d_model // num_heads\n",
        "\n",
        "        self.query_fc = nn.Linear(d_model, d_model)\n",
        "        self.key_fc = nn.Linear(d_model, d_model)\n",
        "        self.value_fc = nn.Linear(d_model, d_model)\n",
        "        self.out_fc = nn.Linear(d_model, d_model)\n",
        "\n",
        "        self.attention = ScaledDotProductAttention()\n",
        "\n",
        "    def forward(self, query, key, value, mask=None):\n",
        "        batch_size = query.size(0)\n",
        "\n",
        "        query = self.query_fc(query).view(batch_size, -1, self.num_heads, self.d_k)\n",
        "        key = self.key_fc(key).view(batch_size, -1, self.num_heads, self.d_k)\n",
        "        value = self.value_fc(value).view(batch_size, -1, self.num_heads, self.d_k)\n",
        "\n",
        "        query = query.transpose(1, 2)  # (batch_size, num_heads, seq_len, d_k)\n",
        "        key = key.transpose(1, 2)\n",
        "        value = value.transpose(1, 2)\n",
        "\n",
        "        output, attention = self.attention(query, key, value, mask)\n",
        "\n",
        "        output = output.transpose(1, 2).contiguous().view(batch_size, -1, self.d_model)\n",
        "        output = self.out_fc(output)\n",
        "\n",
        "        return output, attention\n"
      ],
      "metadata": {
        "id": "0PyWF3Ry7kUx"
      },
      "execution_count": 3,
      "outputs": []
    },
    {
      "cell_type": "code",
      "source": [
        "class PositionalEncoding(nn.Module):\n",
        "    def __init__(self, d_model, max_len=5000):\n",
        "        super(PositionalEncoding, self).__init__()\n",
        "\n",
        "        pe = torch.zeros(max_len, d_model)\n",
        "        position = torch.arange(0, max_len).unsqueeze(1).float()\n",
        "        div_term = torch.exp(torch.arange(0, d_model, 2).float() * -(math.log(10000.0) / d_model))\n",
        "\n",
        "        pe[:, 0::2] = torch.sin(position * div_term)\n",
        "        pe[:, 1::2] = torch.cos(position * div_term)\n",
        "\n",
        "        pe = pe.unsqueeze(0)\n",
        "        self.register_buffer('pe', pe)\n",
        "\n",
        "    def forward(self, x):\n",
        "        return x + self.pe[:, :x.size(1)]\n"
      ],
      "metadata": {
        "id": "9eTAPb5p7o7o"
      },
      "execution_count": 4,
      "outputs": []
    },
    {
      "cell_type": "code",
      "source": [
        "class PositionwiseFeedforward(nn.Module):\n",
        "    def __init__(self, d_model, d_ff=2048, dropout=0.1):\n",
        "        super(PositionwiseFeedforward, self).__init__()\n",
        "        self.linear1 = nn.Linear(d_model, d_ff)\n",
        "        self.linear2 = nn.Linear(d_ff, d_model)\n",
        "        self.dropout = nn.Dropout(dropout)\n",
        "\n",
        "    def forward(self, x):\n",
        "        x = F.relu(self.linear1(x))\n",
        "        x = self.dropout(x)\n",
        "        x = self.linear2(x)\n",
        "        return x\n"
      ],
      "metadata": {
        "id": "UeiFNlLo7r4i"
      },
      "execution_count": 5,
      "outputs": []
    },
    {
      "cell_type": "code",
      "source": [
        "class EncoderLayer(nn.Module):\n",
        "    def __init__(self, d_model, num_heads, d_ff, dropout=0.1):\n",
        "        super(EncoderLayer, self).__init__()\n",
        "        self.attention = MultiHeadAttention(d_model, num_heads)\n",
        "        self.ffn = PositionwiseFeedforward(d_model, d_ff, dropout)\n",
        "        self.layer_norm1 = nn.LayerNorm(d_model)\n",
        "        self.layer_norm2 = nn.LayerNorm(d_model)\n",
        "        self.dropout1 = nn.Dropout(dropout)\n",
        "        self.dropout2 = nn.Dropout(dropout)\n",
        "\n",
        "    def forward(self, x, mask):\n",
        "        # Multi-Head Attention\n",
        "        attn_output, attn_weights = self.attention(x, x, x, mask)\n",
        "        x = self.layer_norm1(x + self.dropout1(attn_output))\n",
        "\n",
        "        # Feed Forward Network\n",
        "        ffn_output = self.ffn(x)\n",
        "        x = self.layer_norm2(x + self.dropout2(ffn_output))\n",
        "\n",
        "        return x\n"
      ],
      "metadata": {
        "id": "gmQMhHYI7xZg"
      },
      "execution_count": 6,
      "outputs": []
    },
    {
      "cell_type": "code",
      "source": [
        "class DecoderLayer(nn.Module):\n",
        "    def __init__(self, d_model, num_heads, d_ff, dropout=0.1):\n",
        "        super(DecoderLayer, self).__init__()\n",
        "        self.attention1 = MultiHeadAttention(d_model, num_heads)\n",
        "        self.attention2 = MultiHeadAttention(d_model, num_heads)\n",
        "        self.ffn = PositionwiseFeedforward(d_model, d_ff, dropout)\n",
        "        self.layer_norm1 = nn.LayerNorm(d_model)\n",
        "        self.layer_norm2 = nn.LayerNorm(d_model)\n",
        "        self.layer_norm3 = nn.LayerNorm(d_model)\n",
        "        self.dropout1 = nn.Dropout(dropout)\n",
        "        self.dropout2 = nn.Dropout(dropout)\n",
        "        self.dropout3 = nn.Dropout(dropout)\n",
        "\n",
        "    def forward(self, x, memory, src_mask, tgt_mask):\n",
        "        # Self-attention\n",
        "        attn_output, _ = self.attention1(x, x, x, tgt_mask)\n",
        "        x = self.layer_norm1(x + self.dropout1(attn_output))\n",
        "\n",
        "        # Encoder-Decoder Attention\n",
        "        attn_output, _ = self.attention2(x, memory, memory, src_mask)\n",
        "        x = self.layer_norm2(x + self.dropout2(attn_output))\n",
        "\n",
        "        # Feed Forward Network\n",
        "        ffn_output = self.ffn(x)\n",
        "        x = self.layer_norm3(x + self.dropout3(ffn_output))\n",
        "\n",
        "        return x\n"
      ],
      "metadata": {
        "id": "t3wRBsLH7y1Y"
      },
      "execution_count": 7,
      "outputs": []
    },
    {
      "cell_type": "code",
      "source": [
        "class Transformer(nn.Module):\n",
        "    def __init__(self, src_vocab_size, tgt_vocab_size, d_model=512, num_heads=8, num_layers=6, d_ff=2048, dropout=0.1):\n",
        "        super(Transformer, self).__init__()\n",
        "        self.encoder_embedding = nn.Embedding(src_vocab_size, d_model)\n",
        "        self.decoder_embedding = nn.Embedding(tgt_vocab_size, d_model)\n",
        "\n",
        "        self.positional_encoding = PositionalEncoding(d_model)\n",
        "\n",
        "        self.encoder_layers = nn.ModuleList(\n",
        "            [EncoderLayer(d_model, num_heads, d_ff, dropout) for _ in range(num_layers)]\n",
        "        )\n",
        "\n",
        "        self.decoder_layers = nn.ModuleList(\n",
        "            [DecoderLayer(d_model, num_heads, d_ff, dropout) for _ in range(num_layers)]\n",
        "        )\n",
        "\n",
        "        self.fc_out = nn.Linear(d_model, tgt_vocab_size)\n",
        "        self.dropout = nn.Dropout(dropout)\n",
        "\n",
        "    def forward(self, src, tgt, src_mask=None, tgt_mask=None):\n",
        "        src = self.positional_encoding(self.encoder_embedding(src))\n",
        "        tgt = self.positional_encoding(self.decoder_embedding(tgt))\n",
        "\n",
        "        memory = src\n",
        "        for encoder in self.encoder_layers:\n",
        "            memory = encoder(memory, src_mask)\n",
        "\n",
        "        output = tgt\n",
        "        for decoder in self.decoder_layers:\n",
        "            output = decoder(output, memory, src_mask, tgt_mask)\n",
        "\n",
        "        output = self.fc_out(output)\n",
        "        return output\n"
      ],
      "metadata": {
        "id": "qqJuZy3674UQ"
      },
      "execution_count": 8,
      "outputs": []
    },
    {
      "cell_type": "code",
      "source": [
        "import math\n"
      ],
      "metadata": {
        "id": "SNMqoELI8IDo"
      },
      "execution_count": 10,
      "outputs": []
    },
    {
      "cell_type": "code",
      "source": [
        "# Initialize the model\n",
        "model = Transformer(src_vocab_size=10000, tgt_vocab_size=10000)\n",
        "\n",
        "# Sample input\n",
        "src = torch.randint(0, 10000, (32, 10))  # batch size 32, sequence length 10\n",
        "tgt = torch.randint(0, 10000, (32, 12))  # batch size 32, sequence length 12\n",
        "\n",
        "# Forward pass\n",
        "output = model(src, tgt)\n",
        "print(output.shape)  # Should output (32, 12, 10000)\n"
      ],
      "metadata": {
        "colab": {
          "base_uri": "https://localhost:8080/"
        },
        "id": "tnGPdUYW775A",
        "outputId": "fb154e61-db33-4642-db24-08f86b24d115"
      },
      "execution_count": 11,
      "outputs": [
        {
          "output_type": "stream",
          "name": "stdout",
          "text": [
            "torch.Size([32, 12, 10000])\n"
          ]
        }
      ]
    }
  ]
}