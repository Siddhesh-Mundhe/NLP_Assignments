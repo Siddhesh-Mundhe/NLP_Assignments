{
  "nbformat": 4,
  "nbformat_minor": 0,
  "metadata": {
    "colab": {
      "provenance": []
    },
    "kernelspec": {
      "name": "python3",
      "display_name": "Python 3"
    },
    "language_info": {
      "name": "python"
    }
  },
  "cells": [
    {
      "cell_type": "markdown",
      "source": [
        "Morphology is the study of the way words are built up from smaller meaning bearing units.\n",
        "Study and understand the concepts of morphology by the use of add delete table."
      ],
      "metadata": {
        "id": "RkVzOrFqP-PD"
      }
    },
    {
      "cell_type": "code",
      "execution_count": null,
      "metadata": {
        "id": "ZGMtHcp2e3zg"
      },
      "outputs": [],
      "source": [
        "import pandas as pd"
      ]
    },
    {
      "cell_type": "code",
      "source": [
        "def morphology_add_delete_table(words):\n",
        "    \"\"\"\n",
        "    Generates an Add-Delete table for morphological analysis.\n",
        "    :param words: List of tuples in the format (base_word, addition, deletion)\n",
        "    :return: A DataFrame displaying the morphology table.\n",
        "    \"\"\"\n",
        "    data = []\n",
        "\n",
        "    for base, add, delete in words:\n",
        "        added_word = base + add if add else base\n",
        "        deleted_word = base.replace(delete, '') if delete and delete in base else base\n",
        "\n",
        "        data.append([base, add, added_word, delete, deleted_word])\n",
        "\n",
        "    df = pd.DataFrame(data, columns=[\"Base Word\", \"Addition (Morpheme Added)\", \"New Word\", \"Deletion (Morpheme Removed)\", \"Resulting Word\"])\n",
        "    return df"
      ],
      "metadata": {
        "id": "m5pXxHylfPr-"
      },
      "execution_count": null,
      "outputs": []
    },
    {
      "cell_type": "code",
      "source": [
        "words_list = [\n",
        "    (\"happy\", \"-ness\", \"-ness\"),\n",
        "    (\"write\", \"re-\", \"re-\"),\n",
        "    (\"believe\", \"-able\", \"-able\"),\n",
        "    (\"friend\", \"-ship\", \"-ship\"),\n",
        "    (\"create\", \"-ion\", \"-ion\"),\n",
        "    (\"do\", \"un-\", \"un-\"),\n",
        "]"
      ],
      "metadata": {
        "id": "97MCiihxfTii"
      },
      "execution_count": null,
      "outputs": []
    },
    {
      "cell_type": "code",
      "source": [
        "df = morphology_add_delete_table(words_list)\n",
        "print(df)"
      ],
      "metadata": {
        "colab": {
          "base_uri": "https://localhost:8080/"
        },
        "id": "SjQ_rzyCfWV4",
        "outputId": "f911d2c5-33b1-4913-833b-2ea4c7b3fbf7"
      },
      "execution_count": null,
      "outputs": [
        {
          "output_type": "stream",
          "name": "stdout",
          "text": [
            "  Base Word Addition (Morpheme Added)      New Word  \\\n",
            "0     happy                     -ness    happy-ness   \n",
            "1     write                       re-      writere-   \n",
            "2   believe                     -able  believe-able   \n",
            "3    friend                     -ship   friend-ship   \n",
            "4    create                      -ion    create-ion   \n",
            "5        do                       un-         doun-   \n",
            "\n",
            "  Deletion (Morpheme Removed) Resulting Word  \n",
            "0                       -ness          happy  \n",
            "1                         re-          write  \n",
            "2                       -able        believe  \n",
            "3                       -ship         friend  \n",
            "4                        -ion         create  \n",
            "5                         un-             do  \n"
          ]
        }
      ]
    },
    {
      "cell_type": "code",
      "source": [],
      "metadata": {
        "id": "Bq5rPIovfZXi"
      },
      "execution_count": null,
      "outputs": []
    }
  ]
}